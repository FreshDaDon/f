{
 "cells": [
  {
   "cell_type": "code",
   "execution_count": 7,
   "id": "f4e6cbaa",
   "metadata": {},
   "outputs": [
    {
     "name": "stdout",
     "output_type": "stream",
     "text": [
      "Overwriting Dash_2.py\n"
     ]
    }
   ],
   "source": [
    "%%writefile Dash_2.py\n",
    "\n",
    "import streamlit as st\n",
    "import pandas as pd\n",
    "import plost\n",
    "\n",
    "st.set_page_config(layout='wide', initial_sidebar_state='expanded')\n",
    "\n",
    "with open(\"C:/Users/Takudzwa Stephen/Desktop/Datatude/dashboard-v2-master/style.css\") as f:\n",
    "    st.markdown(f'<style>{f.read()}</style>', unsafe_allow_html=True)\n",
    "  \n",
    "st.title(\"Service Delivery in South Africa\")\n",
    "st.subheader(\"Intelligent Early Detection System of Civil Unrest Using Social Media Data\")\n",
    " \n",
    "st.sidebar.header('Datatude Dashboard')    \n",
    "st.sidebar.header('`insights`')\n",
    "\n",
    "st.sidebar.subheader('Heat map parameter')\n",
    "time_hist_color = st.sidebar.selectbox('Color by', ('temp_min', 'temp_max')) \n",
    "\n",
    "st.sidebar.subheader('Donut chart parameter')\n",
    "donut_theta = st.sidebar.selectbox('Select data', ('q2', 'q3'))\n",
    "\n",
    "st.sidebar.subheader('Line chart parameters')\n",
    "plot_data = st.sidebar.multiselect('Select data', ['temp_min', 'temp_max'], ['temp_min', 'temp_max'])\n",
    "plot_height = st.sidebar.slider('Specify plot height', 200, 500, 250)\n",
    "\n",
    "\n",
    "# Row A\n",
    "st.markdown('### Sentiments')\n",
    "col1, col2, col3 = st.columns(3)\n",
    "col1.metric(\"Positive\", \"70 %\")\n",
    "col2.metric(\"Negetive\", \"20%\")\n",
    "col3.metric(\"Neutral\", \"10\")\n",
    "\n",
    "# Row B\n",
    "seattle_weather = pd.read_csv('https://raw.githubusercontent.com/tvst/plost/master/data/seattle-weather.csv', parse_dates=['date'])\n",
    "stocks = pd.read_csv('https://raw.githubusercontent.com/dataprofessor/data/master/stocks_toy.csv')\n",
    "\n",
    "c1, c2 = st.columns((7,3))\n",
    "with c1:\n",
    "    st.markdown('### Heatmap')\n",
    "    plost.time_hist(\n",
    "    data=seattle_weather,\n",
    "    date='date',\n",
    "    x_unit='week',\n",
    "    y_unit='day',\n",
    "    color=time_hist_color,\n",
    "    aggregate='median',\n",
    "    legend=None,\n",
    "    height=345,\n",
    "    use_container_width=True)\n",
    "with c2:\n",
    "    st.markdown('### Donut chart')\n",
    "    plost.donut_chart(\n",
    "        data=stocks,\n",
    "        theta=donut_theta,\n",
    "        color='company',\n",
    "        legend='bottom', \n",
    "        use_container_width=True)\n",
    "\n",
    "# Row C\n",
    "st.markdown('### Line chart')\n",
    "st.line_chart(seattle_weather, x = 'date', y = plot_data, height = plot_height)"
   ]
  },
  {
   "cell_type": "code",
   "execution_count": null,
   "id": "24b25f01",
   "metadata": {},
   "outputs": [],
   "source": []
  },
  {
   "cell_type": "code",
   "execution_count": null,
   "id": "1394b9b2",
   "metadata": {},
   "outputs": [],
   "source": []
  }
 ],
 "metadata": {
  "kernelspec": {
   "display_name": "Python 3",
   "language": "python",
   "name": "python3"
  },
  "language_info": {
   "codemirror_mode": {
    "name": "ipython",
    "version": 3
   },
   "file_extension": ".py",
   "mimetype": "text/x-python",
   "name": "python",
   "nbconvert_exporter": "python",
   "pygments_lexer": "ipython3",
   "version": "3.9.13"
  }
 },
 "nbformat": 4,
 "nbformat_minor": 5
}
